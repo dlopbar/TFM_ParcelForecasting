{
  "cells": [
    {
      "cell_type": "markdown",
      "metadata": {
        "id": "WCjByGemy3st"
      },
      "source": [
        "# **NOTEBOOK 1: DATA ADCQUISITION, CLEANING AND PREPARATION**\n",
        "\n",
        "In this notebook, data is going to be imported from a CSV file and prepared for later visualisation and analysis.\n",
        "\n",
        "---\n",
        "\n",
        "The data is in the context of a parcel delivery company that every day registers orders in its system for distribution on the next working day. Our goal is to predict how many packages will be registered tomorrow... but first we have to read the data and make all the preparations for this.\n",
        "\n",
        "# Import libraries"
      ]
    },
    {
      "cell_type": "code",
      "execution_count": 24,
      "metadata": {
        "id": "IUwyvBiuzhqD"
      },
      "outputs": [],
      "source": [
        "import pandas as pd\n",
        "import datetime as dt\n",
        "import warnings\n",
        "warnings.filterwarnings('ignore')\n",
        "\n",
        "import holidays"
      ]
    },
    {
      "cell_type": "markdown",
      "metadata": {
        "id": "i-8eYYvJ0VlZ"
      },
      "source": [
        "This data was obtained from a private webservice of the company connected to its database. So they were obtained through this service and deposited in a SQL database in a virtual machine enabled for this purpose. Once deposited in the database, by means of a query executed in SQL Server Management Studio, they were obtained and deposited in a CSV that serves as a starting point for the present work.\n",
        "\n",
        "So... let's read that file!"
      ]
    },
    {
      "cell_type": "code",
      "execution_count": 25,
      "metadata": {
        "colab": {
          "base_uri": "https://localhost:8080/",
          "height": 237
        },
        "id": "XeQzj1mv0co1",
        "outputId": "74e877f4-a1af-4501-830c-b07e37f2808d"
      },
      "outputs": [
        {
          "data": {
            "text/html": [
              "<div>\n",
              "<style scoped>\n",
              "    .dataframe tbody tr th:only-of-type {\n",
              "        vertical-align: middle;\n",
              "    }\n",
              "\n",
              "    .dataframe tbody tr th {\n",
              "        vertical-align: top;\n",
              "    }\n",
              "\n",
              "    .dataframe thead th {\n",
              "        text-align: right;\n",
              "    }\n",
              "</style>\n",
              "<table border=\"1\" class=\"dataframe\">\n",
              "  <thead>\n",
              "    <tr style=\"text-align: right;\">\n",
              "      <th></th>\n",
              "      <th>n_parcels</th>\n",
              "      <th>weekday</th>\n",
              "      <th>monthday</th>\n",
              "      <th>month</th>\n",
              "      <th>year</th>\n",
              "    </tr>\n",
              "    <tr>\n",
              "      <th>date</th>\n",
              "      <th></th>\n",
              "      <th></th>\n",
              "      <th></th>\n",
              "      <th></th>\n",
              "      <th></th>\n",
              "    </tr>\n",
              "  </thead>\n",
              "  <tbody>\n",
              "    <tr>\n",
              "      <th>2010-01-01</th>\n",
              "      <td>4.0</td>\n",
              "      <td>6</td>\n",
              "      <td>1</td>\n",
              "      <td>1</td>\n",
              "      <td>2010</td>\n",
              "    </tr>\n",
              "    <tr>\n",
              "      <th>2010-01-02</th>\n",
              "      <td>164.0</td>\n",
              "      <td>7</td>\n",
              "      <td>2</td>\n",
              "      <td>1</td>\n",
              "      <td>2010</td>\n",
              "    </tr>\n",
              "    <tr>\n",
              "      <th>2010-01-03</th>\n",
              "      <td>8.0</td>\n",
              "      <td>1</td>\n",
              "      <td>3</td>\n",
              "      <td>1</td>\n",
              "      <td>2010</td>\n",
              "    </tr>\n",
              "    <tr>\n",
              "      <th>2010-01-04</th>\n",
              "      <td>25345.0</td>\n",
              "      <td>2</td>\n",
              "      <td>4</td>\n",
              "      <td>1</td>\n",
              "      <td>2010</td>\n",
              "    </tr>\n",
              "    <tr>\n",
              "      <th>2010-01-05</th>\n",
              "      <td>20130.0</td>\n",
              "      <td>3</td>\n",
              "      <td>5</td>\n",
              "      <td>1</td>\n",
              "      <td>2010</td>\n",
              "    </tr>\n",
              "  </tbody>\n",
              "</table>\n",
              "</div>"
            ],
            "text/plain": [
              "            n_parcels  weekday  monthday  month  year\n",
              "date                                                 \n",
              "2010-01-01        4.0        6         1      1  2010\n",
              "2010-01-02      164.0        7         2      1  2010\n",
              "2010-01-03        8.0        1         3      1  2010\n",
              "2010-01-04    25345.0        2         4      1  2010\n",
              "2010-01-05    20130.0        3         5      1  2010"
            ]
          },
          "execution_count": 25,
          "metadata": {},
          "output_type": "execute_result"
        }
      ],
      "source": [
        "# url initial data\n",
        "url = '../files/data/initial_data.csv'\n",
        "# read with pandas\n",
        "df_initial_parcels = pd.read_csv(url, sep=\";\", names=['date', 'n_parcels', 'weekday', 'monthday', 'month', 'year'], header=None, index_col='date')\n",
        "df_initial_parcels.head()"
      ]
    },
    {
      "cell_type": "code",
      "execution_count": 26,
      "metadata": {
        "colab": {
          "base_uri": "https://localhost:8080/",
          "height": 237
        },
        "id": "d7yK9_p-02-y",
        "outputId": "b6d19cb6-2505-40bd-cdd2-678e98c6b44a"
      },
      "outputs": [
        {
          "data": {
            "text/html": [
              "<div>\n",
              "<style scoped>\n",
              "    .dataframe tbody tr th:only-of-type {\n",
              "        vertical-align: middle;\n",
              "    }\n",
              "\n",
              "    .dataframe tbody tr th {\n",
              "        vertical-align: top;\n",
              "    }\n",
              "\n",
              "    .dataframe thead th {\n",
              "        text-align: right;\n",
              "    }\n",
              "</style>\n",
              "<table border=\"1\" class=\"dataframe\">\n",
              "  <thead>\n",
              "    <tr style=\"text-align: right;\">\n",
              "      <th></th>\n",
              "      <th>n_parcels</th>\n",
              "      <th>weekday</th>\n",
              "      <th>monthday</th>\n",
              "      <th>month</th>\n",
              "      <th>year</th>\n",
              "    </tr>\n",
              "    <tr>\n",
              "      <th>date</th>\n",
              "      <th></th>\n",
              "      <th></th>\n",
              "      <th></th>\n",
              "      <th></th>\n",
              "      <th></th>\n",
              "    </tr>\n",
              "  </thead>\n",
              "  <tbody>\n",
              "    <tr>\n",
              "      <th>2022-03-27</th>\n",
              "      <td>56338.0</td>\n",
              "      <td>1</td>\n",
              "      <td>27</td>\n",
              "      <td>3</td>\n",
              "      <td>2022</td>\n",
              "    </tr>\n",
              "    <tr>\n",
              "      <th>2022-03-28</th>\n",
              "      <td>417314.0</td>\n",
              "      <td>2</td>\n",
              "      <td>28</td>\n",
              "      <td>3</td>\n",
              "      <td>2022</td>\n",
              "    </tr>\n",
              "    <tr>\n",
              "      <th>2022-03-29</th>\n",
              "      <td>358210.0</td>\n",
              "      <td>3</td>\n",
              "      <td>29</td>\n",
              "      <td>3</td>\n",
              "      <td>2022</td>\n",
              "    </tr>\n",
              "    <tr>\n",
              "      <th>2022-03-30</th>\n",
              "      <td>331948.0</td>\n",
              "      <td>4</td>\n",
              "      <td>30</td>\n",
              "      <td>3</td>\n",
              "      <td>2022</td>\n",
              "    </tr>\n",
              "    <tr>\n",
              "      <th>2022-03-31</th>\n",
              "      <td>336889.0</td>\n",
              "      <td>5</td>\n",
              "      <td>31</td>\n",
              "      <td>3</td>\n",
              "      <td>2022</td>\n",
              "    </tr>\n",
              "  </tbody>\n",
              "</table>\n",
              "</div>"
            ],
            "text/plain": [
              "            n_parcels  weekday  monthday  month  year\n",
              "date                                                 \n",
              "2022-03-27    56338.0        1        27      3  2022\n",
              "2022-03-28   417314.0        2        28      3  2022\n",
              "2022-03-29   358210.0        3        29      3  2022\n",
              "2022-03-30   331948.0        4        30      3  2022\n",
              "2022-03-31   336889.0        5        31      3  2022"
            ]
          },
          "execution_count": 26,
          "metadata": {},
          "output_type": "execute_result"
        }
      ],
      "source": [
        "df_initial_parcels.tail()"
      ]
    },
    {
      "cell_type": "code",
      "execution_count": 27,
      "metadata": {},
      "outputs": [
        {
          "data": {
            "text/plain": [
              "n_parcels    float64\n",
              "weekday        int64\n",
              "monthday       int64\n",
              "month          int64\n",
              "year           int64\n",
              "dtype: object"
            ]
          },
          "execution_count": 27,
          "metadata": {},
          "output_type": "execute_result"
        }
      ],
      "source": [
        "df_initial_parcels.dtypes"
      ]
    },
    {
      "cell_type": "markdown",
      "metadata": {
        "id": "1C1sO6Ym1Oc0"
      },
      "source": [
        "We can see that we have for each of the days the total shipments recorded between January 1, 2010 and March 31, 2022. In addition, there are columns with the day of the week, the day of the month, the month and the year. \n",
        "\n",
        "We know that there are all days in the series because the query was implemented to do so, so we will have to check for null values later.\n",
        "\n",
        "Now let's add some more for plotting graphs late (date as columns too and yearday)."
      ]
    },
    {
      "cell_type": "code",
      "execution_count": 28,
      "metadata": {
        "colab": {
          "base_uri": "https://localhost:8080/",
          "height": 237
        },
        "id": "uPnTAlLU0xFV",
        "outputId": "e4d25db5-e307-4d16-d283-ff5c1a34c4df"
      },
      "outputs": [
        {
          "data": {
            "text/html": [
              "<div>\n",
              "<style scoped>\n",
              "    .dataframe tbody tr th:only-of-type {\n",
              "        vertical-align: middle;\n",
              "    }\n",
              "\n",
              "    .dataframe tbody tr th {\n",
              "        vertical-align: top;\n",
              "    }\n",
              "\n",
              "    .dataframe thead th {\n",
              "        text-align: right;\n",
              "    }\n",
              "</style>\n",
              "<table border=\"1\" class=\"dataframe\">\n",
              "  <thead>\n",
              "    <tr style=\"text-align: right;\">\n",
              "      <th></th>\n",
              "      <th>n_parcels</th>\n",
              "      <th>weekday</th>\n",
              "      <th>monthday</th>\n",
              "      <th>month</th>\n",
              "      <th>year</th>\n",
              "      <th>date_c</th>\n",
              "      <th>yearday</th>\n",
              "    </tr>\n",
              "    <tr>\n",
              "      <th>date</th>\n",
              "      <th></th>\n",
              "      <th></th>\n",
              "      <th></th>\n",
              "      <th></th>\n",
              "      <th></th>\n",
              "      <th></th>\n",
              "      <th></th>\n",
              "    </tr>\n",
              "  </thead>\n",
              "  <tbody>\n",
              "    <tr>\n",
              "      <th>2010-01-01</th>\n",
              "      <td>4.0</td>\n",
              "      <td>6</td>\n",
              "      <td>1</td>\n",
              "      <td>1</td>\n",
              "      <td>2010</td>\n",
              "      <td>2010-01-01</td>\n",
              "      <td>1</td>\n",
              "    </tr>\n",
              "    <tr>\n",
              "      <th>2010-01-02</th>\n",
              "      <td>164.0</td>\n",
              "      <td>7</td>\n",
              "      <td>2</td>\n",
              "      <td>1</td>\n",
              "      <td>2010</td>\n",
              "      <td>2010-01-02</td>\n",
              "      <td>2</td>\n",
              "    </tr>\n",
              "    <tr>\n",
              "      <th>2010-01-03</th>\n",
              "      <td>8.0</td>\n",
              "      <td>1</td>\n",
              "      <td>3</td>\n",
              "      <td>1</td>\n",
              "      <td>2010</td>\n",
              "      <td>2010-01-03</td>\n",
              "      <td>3</td>\n",
              "    </tr>\n",
              "    <tr>\n",
              "      <th>2010-01-04</th>\n",
              "      <td>25345.0</td>\n",
              "      <td>2</td>\n",
              "      <td>4</td>\n",
              "      <td>1</td>\n",
              "      <td>2010</td>\n",
              "      <td>2010-01-04</td>\n",
              "      <td>4</td>\n",
              "    </tr>\n",
              "    <tr>\n",
              "      <th>2010-01-05</th>\n",
              "      <td>20130.0</td>\n",
              "      <td>3</td>\n",
              "      <td>5</td>\n",
              "      <td>1</td>\n",
              "      <td>2010</td>\n",
              "      <td>2010-01-05</td>\n",
              "      <td>5</td>\n",
              "    </tr>\n",
              "  </tbody>\n",
              "</table>\n",
              "</div>"
            ],
            "text/plain": [
              "            n_parcels  weekday  monthday  month  year     date_c  yearday\n",
              "date                                                                     \n",
              "2010-01-01        4.0        6         1      1  2010 2010-01-01        1\n",
              "2010-01-02      164.0        7         2      1  2010 2010-01-02        2\n",
              "2010-01-03        8.0        1         3      1  2010 2010-01-03        3\n",
              "2010-01-04    25345.0        2         4      1  2010 2010-01-04        4\n",
              "2010-01-05    20130.0        3         5      1  2010 2010-01-05        5"
            ]
          },
          "execution_count": 28,
          "metadata": {},
          "output_type": "execute_result"
        }
      ],
      "source": [
        "# index to datetime\n",
        "df_initial_parcels.index = pd.to_datetime(df_initial_parcels.index)\n",
        "\n",
        "# add date and yearday columns\n",
        "df_initial_parcels['date_c'] = df_initial_parcels.index\n",
        "df_initial_parcels['yearday'] = df_initial_parcels.index.dayofyear\n",
        "df_initial_parcels.head()"
      ]
    },
    {
      "cell_type": "markdown",
      "metadata": {
        "id": "rdzL45RmOkeT"
      },
      "source": [
        "# Generate holidays\n",
        "\n",
        "As we are dealing with a time series and by the very nature of the company, we can guess that we will need to identify holidays and important days that may have strange behaviors. These are national holidays, Black Friday, Black Friday week, Christmas and the period of confinement and months after.\n",
        "\n",
        "First, we are going to get the national holidays using the \"holidays\" library and we are going to add Holy Thursday, Black Friday and the Black Friday week."
      ]
    },
    {
      "cell_type": "code",
      "execution_count": 29,
      "metadata": {
        "id": "yI-2o350OMCP"
      },
      "outputs": [],
      "source": [
        "# import national holidays\n",
        "es_holidays = holidays.ES(years=(2010, 2011, 2012, 2013, 2014, 2015, 2016, 2017, 2018, 2019, 2020, 2021, 2022))\n",
        "\n",
        "# create Holy Thursday\n",
        "es_holidays[dt.date(2010, 4, 1)] = 'Jueves Santo'\n",
        "es_holidays[dt.date(2011, 4, 21)] = 'Jueves Santo'\n",
        "es_holidays[dt.date(2012, 4, 5)] = 'Jueves Santo'\n",
        "es_holidays[dt.date(2013, 3, 28)] = 'Jueves Santo'\n",
        "es_holidays[dt.date(2014, 4, 17)] = 'Jueves Santo'\n",
        "es_holidays[dt.date(2015, 4, 2)] = 'Jueves Santo'\n",
        "es_holidays[dt.date(2016, 3, 24)] = 'Jueves Santo'\n",
        "es_holidays[dt.date(2017, 4, 13)] = 'Jueves Santo'\n",
        "es_holidays[dt.date(2018, 4, 29)] = 'Jueves Santo'\n",
        "es_holidays[dt.date(2019, 4, 18)] = 'Jueves Santo'\n",
        "es_holidays[dt.date(2020, 4, 9)] = 'Jueves Santo'\n",
        "es_holidays[dt.date(2021, 4, 1)] = 'Jueves Santo'\n",
        "es_holidays[dt.date(2022, 4, 14)] = 'Jueves Santo'\n",
        "\n",
        "# create Black Friday\n",
        "es_blackfriday = {}\n",
        "es_blackfriday[dt.date(2010, 11, 29)] = 'Black friday'\n",
        "es_blackfriday[dt.date(2011, 11, 28)] = 'Black friday'\n",
        "es_blackfriday[dt.date(2012, 11, 26)] = 'Black friday'\n",
        "es_blackfriday[dt.date(2013, 12, 2)] = 'Black friday'\n",
        "es_blackfriday[dt.date(2014, 12, 1)] = 'Black friday'\n",
        "es_blackfriday[dt.date(2015, 11, 30)] = 'Black friday'\n",
        "es_blackfriday[dt.date(2016, 11, 28)] = 'Black friday'\n",
        "es_blackfriday[dt.date(2017, 11, 27)] = 'Black friday'\n",
        "es_blackfriday[dt.date(2018, 11, 26)] = 'Black friday'\n",
        "es_blackfriday[dt.date(2019, 12, 2)] = 'Black friday'\n",
        "es_blackfriday[dt.date(2020, 11, 30)] = 'Black friday'\n",
        "es_blackfriday[dt.date(2021, 11, 29)] = 'Black friday'\n",
        "es_blackfriday[dt.date(2022, 11, 28)] = 'Black friday'\n",
        "\n",
        "# create Black Friday week\n",
        "es_blackfridayWeek = {}\n",
        "es_blackfridayWeek[dt.date(2010, 11, 26)] = 'Black friday week'\n",
        "es_blackfridayWeek[dt.date(2010, 11, 27)] = 'Black friday week'\n",
        "es_blackfridayWeek[dt.date(2010, 11, 28)] = 'Black friday week'\n",
        "es_blackfridayWeek[dt.date(2010, 11, 29)] = 'Black friday week'\n",
        "es_blackfridayWeek[dt.date(2010, 11, 30)] = 'Black friday week'\n",
        "es_blackfridayWeek[dt.date(2010, 12, 1)] = 'Black friday week'\n",
        "es_blackfridayWeek[dt.date(2010, 12, 2)] = 'Black friday week'\n",
        "es_blackfridayWeek[dt.date(2011, 11, 25)] = 'Black friday week'\n",
        "es_blackfridayWeek[dt.date(2011, 11, 26)] = 'Black friday week'\n",
        "es_blackfridayWeek[dt.date(2011, 11, 27)] = 'Black friday week'\n",
        "es_blackfridayWeek[dt.date(2011, 11, 28)] = 'Black friday week'\n",
        "es_blackfridayWeek[dt.date(2011, 11, 29)] = 'Black friday week'\n",
        "es_blackfridayWeek[dt.date(2011, 11, 30)] = 'Black friday week'\n",
        "es_blackfridayWeek[dt.date(2011, 12, 1)] = 'Black friday week'\n",
        "es_blackfridayWeek[dt.date(2012, 11, 23)] = 'Black friday week'\n",
        "es_blackfridayWeek[dt.date(2012, 11, 24)] = 'Black friday week'\n",
        "es_blackfridayWeek[dt.date(2012, 11, 25)] = 'Black friday week'\n",
        "es_blackfridayWeek[dt.date(2012, 11, 26)] = 'Black friday week'\n",
        "es_blackfridayWeek[dt.date(2012, 11, 27)] = 'Black friday week'\n",
        "es_blackfridayWeek[dt.date(2012, 11, 28)] = 'Black friday week'\n",
        "es_blackfridayWeek[dt.date(2012, 11, 29)] = 'Black friday week'\n",
        "es_blackfridayWeek[dt.date(2013, 11, 29)] = 'Black friday week'\n",
        "es_blackfridayWeek[dt.date(2013, 11, 30)] = 'Black friday week'\n",
        "es_blackfridayWeek[dt.date(2013, 12, 1)] = 'Black friday week'\n",
        "es_blackfridayWeek[dt.date(2013, 12, 2)] = 'Black friday week'\n",
        "es_blackfridayWeek[dt.date(2013, 12, 3)] = 'Black friday week'\n",
        "es_blackfridayWeek[dt.date(2013, 12, 4)] = 'Black friday week'\n",
        "es_blackfridayWeek[dt.date(2013, 12, 5)] = 'Black friday week'\n",
        "es_blackfridayWeek[dt.date(2014, 11, 28)] = 'Black friday week'\n",
        "es_blackfridayWeek[dt.date(2014, 11, 29)] = 'Black friday week'\n",
        "es_blackfridayWeek[dt.date(2014, 11, 30)] = 'Black friday week'\n",
        "es_blackfridayWeek[dt.date(2014, 12, 1)] = 'Black friday week'\n",
        "es_blackfridayWeek[dt.date(2014, 12, 2)] = 'Black friday week'\n",
        "es_blackfridayWeek[dt.date(2014, 12, 3)] = 'Black friday week'\n",
        "es_blackfridayWeek[dt.date(2014, 12, 4)] = 'Black friday week'\n",
        "es_blackfridayWeek[dt.date(2015, 11, 27)] = 'Black friday week'\n",
        "es_blackfridayWeek[dt.date(2015, 11, 28)] = 'Black friday week'\n",
        "es_blackfridayWeek[dt.date(2015, 11, 29)] = 'Black friday week'\n",
        "es_blackfridayWeek[dt.date(2015, 11, 30)] = 'Black friday week'\n",
        "es_blackfridayWeek[dt.date(2015, 12, 1)] = 'Black friday week'\n",
        "es_blackfridayWeek[dt.date(2015, 12, 2)] = 'Black friday week'\n",
        "es_blackfridayWeek[dt.date(2015, 12, 3)] = 'Black friday week'\n",
        "es_blackfridayWeek[dt.date(2016, 11, 25)] = 'Black friday week'\n",
        "es_blackfridayWeek[dt.date(2016, 11, 26)] = 'Black friday week'\n",
        "es_blackfridayWeek[dt.date(2016, 11, 27)] = 'Black friday week'\n",
        "es_blackfridayWeek[dt.date(2016, 11, 28)] = 'Black friday week'\n",
        "es_blackfridayWeek[dt.date(2016, 11, 29)] = 'Black friday week'\n",
        "es_blackfridayWeek[dt.date(2016, 11, 30)] = 'Black friday week'\n",
        "es_blackfridayWeek[dt.date(2016, 12, 1)] = 'Black friday week'\n",
        "es_blackfridayWeek[dt.date(2017, 11, 24)] = 'Black friday week'\n",
        "es_blackfridayWeek[dt.date(2017, 11, 25)] = 'Black friday week'\n",
        "es_blackfridayWeek[dt.date(2017, 11, 26)] = 'Black friday week'\n",
        "es_blackfridayWeek[dt.date(2017, 11, 27)] = 'Black friday week'\n",
        "es_blackfridayWeek[dt.date(2017, 11, 28)] = 'Black friday week'\n",
        "es_blackfridayWeek[dt.date(2017, 11, 29)] = 'Black friday week'\n",
        "es_blackfridayWeek[dt.date(2017, 11, 30)] = 'Black friday week'\n",
        "es_blackfridayWeek[dt.date(2018, 11, 23)] = 'Black friday week'\n",
        "es_blackfridayWeek[dt.date(2018, 11, 24)] = 'Black friday week'\n",
        "es_blackfridayWeek[dt.date(2018, 11, 25)] = 'Black friday week'\n",
        "es_blackfridayWeek[dt.date(2018, 11, 26)] = 'Black friday week'\n",
        "es_blackfridayWeek[dt.date(2018, 11, 27)] = 'Black friday week'\n",
        "es_blackfridayWeek[dt.date(2018, 11, 28)] = 'Black friday week'\n",
        "es_blackfridayWeek[dt.date(2018, 11, 29)] = 'Black friday week'\n",
        "es_blackfridayWeek[dt.date(2019, 11, 29)] = 'Black friday week'\n",
        "es_blackfridayWeek[dt.date(2019, 11, 30)] = 'Black friday week'\n",
        "es_blackfridayWeek[dt.date(2019, 12, 1)] = 'Black friday week'\n",
        "es_blackfridayWeek[dt.date(2019, 12, 2)] = 'Black friday week'\n",
        "es_blackfridayWeek[dt.date(2019, 12, 3)] = 'Black friday week'\n",
        "es_blackfridayWeek[dt.date(2019, 12, 4)] = 'Black friday week'\n",
        "es_blackfridayWeek[dt.date(2019, 12, 5)] = 'Black friday week'\n",
        "es_blackfridayWeek[dt.date(2020, 11, 27)] = 'Black friday week'\n",
        "es_blackfridayWeek[dt.date(2020, 11, 28)] = 'Black friday week'\n",
        "es_blackfridayWeek[dt.date(2020, 11, 29)] = 'Black friday week'\n",
        "es_blackfridayWeek[dt.date(2020, 11, 30)] = 'Black friday week'\n",
        "es_blackfridayWeek[dt.date(2020, 12, 1)] = 'Black friday week'\n",
        "es_blackfridayWeek[dt.date(2020, 12, 2)] = 'Black friday week'\n",
        "es_blackfridayWeek[dt.date(2020, 12, 3)] = 'Black friday week'\n",
        "es_blackfridayWeek[dt.date(2021, 11, 29)] = 'Black friday week'\n",
        "es_blackfridayWeek[dt.date(2021, 11, 29)] = 'Black friday week'\n",
        "es_blackfridayWeek[dt.date(2021, 11, 29)] = 'Black friday week'\n",
        "es_blackfridayWeek[dt.date(2021, 11, 29)] = 'Black friday week'\n",
        "es_blackfridayWeek[dt.date(2021, 11, 29)] = 'Black friday week'\n",
        "es_blackfridayWeek[dt.date(2021, 11, 29)] = 'Black friday week'\n",
        "es_blackfridayWeek[dt.date(2021, 11, 29)] = 'Black friday week'\n",
        "es_blackfridayWeek[dt.date(2022, 11, 25)] = 'Black friday week'\n",
        "es_blackfridayWeek[dt.date(2022, 11, 26)] = 'Black friday week'\n",
        "es_blackfridayWeek[dt.date(2022, 11, 27)] = 'Black friday week'\n",
        "es_blackfridayWeek[dt.date(2022, 11, 28)] = 'Black friday week'\n",
        "es_blackfridayWeek[dt.date(2022, 11, 29)] = 'Black friday week'\n",
        "es_blackfridayWeek[dt.date(2022, 11, 30)] = 'Black friday week'\n",
        "es_blackfridayWeek[dt.date(2022, 12, 1)] = 'Black friday week'"
      ]
    },
    {
      "cell_type": "markdown",
      "metadata": {
        "id": "B1xuHhX1SC-s"
      },
      "source": [
        "We also create a function to generate Christmas days."
      ]
    },
    {
      "cell_type": "code",
      "execution_count": 30,
      "metadata": {
        "id": "ljYpK_yySDaq"
      },
      "outputs": [],
      "source": [
        "# create Christmas\n",
        "es_Christmas = {}\n",
        "def christmas(df):\n",
        "  if (df['month'] == 12 and df['monthday'] >= 10) or (df['month'] == 1 and df['monthday'] <= 6):\n",
        "    es_Christmas[dt.date(df['year'], df['month'], df['monthday'])] = 'Christmas'\n",
        "    return True\n",
        "  else: \n",
        "    return False"
      ]
    },
    {
      "cell_type": "markdown",
      "metadata": {
        "id": "eH4iHJthdNKt"
      },
      "source": [
        "Now we create a function to add to our dataset new columns with the weekends, black friday, holidays, Christmas, lockout period... and then we add this aditional data to the dataframe"
      ]
    },
    {
      "cell_type": "markdown",
      "metadata": {},
      "source": [
        "So we are going to add boolean columns for the calendar data with the following:\n",
        "\n",
        "* National holidays: using the holidays module, the Spanish national holidays are imported and others, such as Maundy Thursday, are added manually. \n",
        "* Black Friday: the Black Friday day is manually created for each of the years (the day with the most package registrations each year).\n",
        "* BlackFriday week: another category is created that includes the 3 days before and after due to the high volume of these dates.\n",
        "* Christmas: period corresponding to the second half of December and up to January 6.\n",
        "* COVID: period from March 8 to September 1 due to the confinement and subsequent deconfinement until the return to relative normality."
      ]
    },
    {
      "cell_type": "code",
      "execution_count": 31,
      "metadata": {
        "id": "6vxsAX3OdtUY"
      },
      "outputs": [],
      "source": [
        "# type day function\n",
        "def type_day(df):\n",
        "    if df['blackFriday']:\n",
        "        return 'blackFriday'\n",
        "    elif df['blackFridayWeek']:\n",
        "        return 'blackFridayWeek'\n",
        "    elif df['Christmas']:\n",
        "        return 'Christmas'\n",
        "    elif df['fest']:\n",
        "        return 'fest'\n",
        "    elif df['saturday']:\n",
        "        return 'saturday'\n",
        "    elif df['sunday']:\n",
        "        return 'sunday'\n",
        "    elif df['COVID']:\n",
        "        return 'COVID'\n",
        "    elif df['eve']:\n",
        "        return 'eve'\n",
        "    elif df['postFest']:\n",
        "        return 'postFest'\n",
        "    elif df['workable']:\n",
        "        return 'workable'\n",
        "    else:\n",
        "        return 'workable'"
      ]
    },
    {
      "cell_type": "code",
      "execution_count": 32,
      "metadata": {
        "colab": {
          "base_uri": "https://localhost:8080/",
          "height": 237
        },
        "id": "xFpttnXpdKtQ",
        "outputId": "9875661c-b94e-4f08-cf4e-24bfb59ebc78"
      },
      "outputs": [
        {
          "data": {
            "text/html": [
              "<div>\n",
              "<style scoped>\n",
              "    .dataframe tbody tr th:only-of-type {\n",
              "        vertical-align: middle;\n",
              "    }\n",
              "\n",
              "    .dataframe tbody tr th {\n",
              "        vertical-align: top;\n",
              "    }\n",
              "\n",
              "    .dataframe thead th {\n",
              "        text-align: right;\n",
              "    }\n",
              "</style>\n",
              "<table border=\"1\" class=\"dataframe\">\n",
              "  <thead>\n",
              "    <tr style=\"text-align: right;\">\n",
              "      <th></th>\n",
              "      <th>n_parcels</th>\n",
              "      <th>weekday</th>\n",
              "      <th>monthday</th>\n",
              "      <th>month</th>\n",
              "      <th>year</th>\n",
              "      <th>date_c</th>\n",
              "      <th>yearday</th>\n",
              "      <th>fest</th>\n",
              "      <th>eve</th>\n",
              "      <th>postFest</th>\n",
              "      <th>saturday</th>\n",
              "      <th>sunday</th>\n",
              "      <th>weekend</th>\n",
              "      <th>workable</th>\n",
              "      <th>blackFriday</th>\n",
              "      <th>blackFridayWeek</th>\n",
              "      <th>COVID</th>\n",
              "      <th>Christmas</th>\n",
              "      <th>typeDay</th>\n",
              "    </tr>\n",
              "    <tr>\n",
              "      <th>date</th>\n",
              "      <th></th>\n",
              "      <th></th>\n",
              "      <th></th>\n",
              "      <th></th>\n",
              "      <th></th>\n",
              "      <th></th>\n",
              "      <th></th>\n",
              "      <th></th>\n",
              "      <th></th>\n",
              "      <th></th>\n",
              "      <th></th>\n",
              "      <th></th>\n",
              "      <th></th>\n",
              "      <th></th>\n",
              "      <th></th>\n",
              "      <th></th>\n",
              "      <th></th>\n",
              "      <th></th>\n",
              "      <th></th>\n",
              "    </tr>\n",
              "  </thead>\n",
              "  <tbody>\n",
              "    <tr>\n",
              "      <th>2010-01-01</th>\n",
              "      <td>4.0</td>\n",
              "      <td>6</td>\n",
              "      <td>1</td>\n",
              "      <td>1</td>\n",
              "      <td>2010</td>\n",
              "      <td>2010-01-01</td>\n",
              "      <td>1</td>\n",
              "      <td>True</td>\n",
              "      <td>False</td>\n",
              "      <td>False</td>\n",
              "      <td>False</td>\n",
              "      <td>False</td>\n",
              "      <td>False</td>\n",
              "      <td>False</td>\n",
              "      <td>False</td>\n",
              "      <td>False</td>\n",
              "      <td>False</td>\n",
              "      <td>True</td>\n",
              "      <td>Christmas</td>\n",
              "    </tr>\n",
              "    <tr>\n",
              "      <th>2010-01-02</th>\n",
              "      <td>164.0</td>\n",
              "      <td>7</td>\n",
              "      <td>2</td>\n",
              "      <td>1</td>\n",
              "      <td>2010</td>\n",
              "      <td>2010-01-02</td>\n",
              "      <td>2</td>\n",
              "      <td>False</td>\n",
              "      <td>False</td>\n",
              "      <td>True</td>\n",
              "      <td>True</td>\n",
              "      <td>False</td>\n",
              "      <td>True</td>\n",
              "      <td>False</td>\n",
              "      <td>False</td>\n",
              "      <td>False</td>\n",
              "      <td>False</td>\n",
              "      <td>True</td>\n",
              "      <td>Christmas</td>\n",
              "    </tr>\n",
              "    <tr>\n",
              "      <th>2010-01-03</th>\n",
              "      <td>8.0</td>\n",
              "      <td>1</td>\n",
              "      <td>3</td>\n",
              "      <td>1</td>\n",
              "      <td>2010</td>\n",
              "      <td>2010-01-03</td>\n",
              "      <td>3</td>\n",
              "      <td>False</td>\n",
              "      <td>False</td>\n",
              "      <td>False</td>\n",
              "      <td>False</td>\n",
              "      <td>True</td>\n",
              "      <td>True</td>\n",
              "      <td>False</td>\n",
              "      <td>False</td>\n",
              "      <td>False</td>\n",
              "      <td>False</td>\n",
              "      <td>True</td>\n",
              "      <td>Christmas</td>\n",
              "    </tr>\n",
              "    <tr>\n",
              "      <th>2010-01-04</th>\n",
              "      <td>25345.0</td>\n",
              "      <td>2</td>\n",
              "      <td>4</td>\n",
              "      <td>1</td>\n",
              "      <td>2010</td>\n",
              "      <td>2010-01-04</td>\n",
              "      <td>4</td>\n",
              "      <td>False</td>\n",
              "      <td>False</td>\n",
              "      <td>False</td>\n",
              "      <td>False</td>\n",
              "      <td>False</td>\n",
              "      <td>False</td>\n",
              "      <td>True</td>\n",
              "      <td>False</td>\n",
              "      <td>False</td>\n",
              "      <td>False</td>\n",
              "      <td>True</td>\n",
              "      <td>Christmas</td>\n",
              "    </tr>\n",
              "    <tr>\n",
              "      <th>2010-01-05</th>\n",
              "      <td>20130.0</td>\n",
              "      <td>3</td>\n",
              "      <td>5</td>\n",
              "      <td>1</td>\n",
              "      <td>2010</td>\n",
              "      <td>2010-01-05</td>\n",
              "      <td>5</td>\n",
              "      <td>False</td>\n",
              "      <td>True</td>\n",
              "      <td>False</td>\n",
              "      <td>False</td>\n",
              "      <td>False</td>\n",
              "      <td>False</td>\n",
              "      <td>True</td>\n",
              "      <td>False</td>\n",
              "      <td>False</td>\n",
              "      <td>False</td>\n",
              "      <td>True</td>\n",
              "      <td>Christmas</td>\n",
              "    </tr>\n",
              "  </tbody>\n",
              "</table>\n",
              "</div>"
            ],
            "text/plain": [
              "            n_parcels  weekday  monthday  month  year     date_c  yearday  \\\n",
              "date                                                                        \n",
              "2010-01-01        4.0        6         1      1  2010 2010-01-01        1   \n",
              "2010-01-02      164.0        7         2      1  2010 2010-01-02        2   \n",
              "2010-01-03        8.0        1         3      1  2010 2010-01-03        3   \n",
              "2010-01-04    25345.0        2         4      1  2010 2010-01-04        4   \n",
              "2010-01-05    20130.0        3         5      1  2010 2010-01-05        5   \n",
              "\n",
              "             fest    eve  postFest  saturday  sunday  weekend  workable  \\\n",
              "date                                                                      \n",
              "2010-01-01   True  False     False     False   False    False     False   \n",
              "2010-01-02  False  False      True      True   False     True     False   \n",
              "2010-01-03  False  False     False     False    True     True     False   \n",
              "2010-01-04  False  False     False     False   False    False      True   \n",
              "2010-01-05  False   True     False     False   False    False      True   \n",
              "\n",
              "            blackFriday  blackFridayWeek  COVID  Christmas    typeDay  \n",
              "date                                                                   \n",
              "2010-01-01        False            False  False       True  Christmas  \n",
              "2010-01-02        False            False  False       True  Christmas  \n",
              "2010-01-03        False            False  False       True  Christmas  \n",
              "2010-01-04        False            False  False       True  Christmas  \n",
              "2010-01-05        False            False  False       True  Christmas  "
            ]
          },
          "execution_count": 32,
          "metadata": {},
          "output_type": "execute_result"
        }
      ],
      "source": [
        "df_daytype_parcels = df_initial_parcels\n",
        "\n",
        "# add calendar data to dataset\n",
        "df_daytype_parcels['fest'] = df_daytype_parcels.apply(lambda x: True if x['date_c'] in es_holidays else False, axis=1)\n",
        "df_daytype_parcels['eve'] = df_daytype_parcels.apply(lambda x: True if x['date_c'] + pd.Timedelta(days=1) in es_holidays else False, axis=1)\n",
        "df_daytype_parcels['postFest'] = df_daytype_parcels.apply(lambda x: True if x['date_c'] + pd.Timedelta(days=-1) in es_holidays else False, axis=1)\n",
        "df_daytype_parcels['saturday'] = df_daytype_parcels.apply(lambda x: True if x['date_c'].weekday() == 5 else False, axis=1)\n",
        "df_daytype_parcels['sunday'] = df_daytype_parcels.apply(lambda x: True if x['date_c'].weekday() == 6 else False, axis=1)\n",
        "df_daytype_parcels['weekend'] = df_daytype_parcels.apply(lambda x: True if x['date_c'].weekday() > 4 else False, axis=1)\n",
        "df_daytype_parcels['workable'] = ~(df_daytype_parcels['fest'] | df_initial_parcels['weekend'])\n",
        "df_daytype_parcels['blackFriday'] = df_daytype_parcels.apply(lambda x: True if x['date_c'] in list(es_blackfriday.keys()) else False, axis=1)\n",
        "df_daytype_parcels['blackFridayWeek'] = df_daytype_parcels.apply(lambda x: True if x['date_c'] in list(es_blackfridayWeek.keys()) else False, axis=1)\n",
        "df_daytype_parcels['COVID'] = df_daytype_parcels.apply(lambda x: True if x['date_c'] >= dt.datetime.strptime('2020-03-08', '%Y-%m-%d') and x['date_c'] < dt.datetime.strptime('2020-09-01', '%Y-%m-%d')  else False, axis=1)\n",
        "df_daytype_parcels['Christmas'] = df_daytype_parcels.apply(lambda x: christmas(x), axis=1)\n",
        "df_daytype_parcels['typeDay']  = df_daytype_parcels.apply(lambda x: type_day(x), axis=1)\n",
        "\n",
        "df_daytype_parcels.head()"
      ]
    },
    {
      "cell_type": "markdown",
      "metadata": {},
      "source": []
    },
    {
      "cell_type": "markdown",
      "metadata": {},
      "source": [
        "As mentioned before, we have to check if there are nulls in our data"
      ]
    },
    {
      "cell_type": "code",
      "execution_count": 33,
      "metadata": {},
      "outputs": [
        {
          "data": {
            "text/plain": [
              "48"
            ]
          },
          "execution_count": 33,
          "metadata": {},
          "output_type": "execute_result"
        }
      ],
      "source": [
        "# check NA\n",
        "df_daytype_parcels['n_parcels'].isna().sum()"
      ]
    },
    {
      "cell_type": "markdown",
      "metadata": {},
      "source": [
        "There are 48 NAs, this is normal because on weekends and holidays there can be days without parcels and we know that these days are this way. So we will replace them with 0. Actually, these days did not exist in the data provided by the company and contained in the database, but at the time of obtaining the data, the query was implemented to generate those days that did not exist and now we find them as null values."
      ]
    },
    {
      "cell_type": "code",
      "execution_count": 34,
      "metadata": {},
      "outputs": [
        {
          "data": {
            "text/plain": [
              "0"
            ]
          },
          "execution_count": 34,
          "metadata": {},
          "output_type": "execute_result"
        }
      ],
      "source": [
        "# fillna in \"n_parcels\" with 0\n",
        "df_daytype_parcels['n_parcels'] = df_daytype_parcels['n_parcels'].fillna(0)\n",
        "df_daytype_parcels['n_parcels'].isna().sum()"
      ]
    },
    {
      "cell_type": "markdown",
      "metadata": {},
      "source": [
        "Finally, we have as a result the dataframe with all the days between the first and the last one, the number of parcels of each day and some columns with calendar data that will help us visualize, analyze and obtain important variables in the next steps.\n",
        "\n",
        "So, let's save this dataframe and go on in the next nootbook."
      ]
    },
    {
      "cell_type": "code",
      "execution_count": 35,
      "metadata": {},
      "outputs": [],
      "source": [
        "# save data\n",
        "df_daytype_parcels.to_csv(\"../files/data/daytype_parcels.csv\", header=True)"
      ]
    }
  ],
  "metadata": {
    "colab": {
      "collapsed_sections": [],
      "name": "1_readData.ipynb",
      "provenance": []
    },
    "kernelspec": {
      "display_name": "Python 3.9.5 ('.venv': venv)",
      "language": "python",
      "name": "python3"
    },
    "language_info": {
      "codemirror_mode": {
        "name": "ipython",
        "version": 3
      },
      "file_extension": ".py",
      "mimetype": "text/x-python",
      "name": "python",
      "nbconvert_exporter": "python",
      "pygments_lexer": "ipython3",
      "version": "3.9.5"
    },
    "vscode": {
      "interpreter": {
        "hash": "d45b97b60cd345b3487afca7c97d1b09100bd527237d21d5faf27c41656a8eb3"
      }
    }
  },
  "nbformat": 4,
  "nbformat_minor": 0
}
