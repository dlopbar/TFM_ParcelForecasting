{
  "cells": [
    {
      "cell_type": "markdown",
      "metadata": {
        "id": "iw3AHO_shcD9"
      },
      "source": [
        "# **NOTEBOOK 4: STREAMLIT**\n",
        "In this notebook, we are going to run streamlit application.\n",
        "\n",
        "To simulate a possible tool that a customer could use, a web interface has been created that allows both viewing the historical data of the time series and forecasting for the next day.\n",
        "\n",
        "As explained before, the last day of the historical time series is March 31, 2022, so April 1, 2022 is set as the day to forecast to simulate a real situation.\n",
        "\n",
        "For this purpose, the streamlit module has been used, which allows the creation of applications developed in Python."
      ]
    },
    {
      "cell_type": "markdown",
      "metadata": {
        "id": "mgrhm6tBCKVu"
      },
      "source": [
        "**App code**\n",
        "\n",
        "It exists an app.py with app python code. \n",
        "\n",
        "When the forecasting is performed, the code uses the model that we saved in the previous notebook. \n",
        "\n",
        "In addition, the variables corresponding to the day to be predicted are in a csv file that is read by the app."
      ]
    },
    {
      "cell_type": "markdown",
      "metadata": {
        "id": "iBSMldEmOCpt"
      },
      "source": [
        "**Run app**\n",
        "\n",
        "Its execution can be launched through ngrok, a service that allows to create the local server in a subdomain to be able to visualize it outside the LAN, through the Internet. However, for simplicity and to avoid the use of this service, it has been configured through LocalTunnel in a local environment."
      ]
    },
    {
      "cell_type": "markdown",
      "metadata": {},
      "source": [
        "**Manual**\n",
        "\n",
        "Manual can be consulted in the memory doc."
      ]
    },
    {
      "cell_type": "code",
      "execution_count": 1,
      "metadata": {
        "colab": {
          "base_uri": "https://localhost:8080/"
        },
        "id": "ZHcXka3vjnzg",
        "outputId": "e9d57fa4-8677-4840-c9e3-fb2c9d0bc23e"
      },
      "outputs": [
        {
          "name": "stdout",
          "output_type": "stream",
          "text": [
            "^C\n"
          ]
        }
      ],
      "source": [
        "# run app\n",
        "!streamlit run app.py & npx localtunnel --port 8501"
      ]
    }
  ],
  "metadata": {
    "colab": {
      "name": "4_streamlit.ipynb",
      "provenance": []
    },
    "kernelspec": {
      "display_name": "Python 3.9.5 ('.venv': venv)",
      "language": "python",
      "name": "python3"
    },
    "language_info": {
      "codemirror_mode": {
        "name": "ipython",
        "version": 3
      },
      "file_extension": ".py",
      "mimetype": "text/x-python",
      "name": "python",
      "nbconvert_exporter": "python",
      "pygments_lexer": "ipython3",
      "version": "3.9.5"
    },
    "vscode": {
      "interpreter": {
        "hash": "d45b97b60cd345b3487afca7c97d1b09100bd527237d21d5faf27c41656a8eb3"
      }
    }
  },
  "nbformat": 4,
  "nbformat_minor": 0
}
