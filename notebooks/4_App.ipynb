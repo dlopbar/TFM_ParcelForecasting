{
  "cells": [
    {
      "cell_type": "markdown",
      "metadata": {
        "id": "iw3AHO_shcD9"
      },
      "source": [
        "# **NOTEBOOK 4: STREAMLIT**\n",
        "In this notebook, we are going to run streamlit application."
      ]
    },
    {
      "cell_type": "markdown",
      "metadata": {
        "id": "mgrhm6tBCKVu"
      },
      "source": [
        "**App code**\n",
        "\n",
        "It exists an app.py with app python code. \n",
        "\n",
        "When the forecasting is performed, the code uses the model that we saved in the previous notebook. \n",
        "\n",
        "In addition, the variables corresponding to the day to be predicted are in a csv file that is read by the app."
      ]
    },
    {
      "cell_type": "markdown",
      "metadata": {
        "id": "iBSMldEmOCpt"
      },
      "source": [
        "**Run app**\n",
        "\n",
        "There are several ways to run a streamlit application. One of them is using ngrok, but I have found an easier one that doesn't need ngrok and uses localtunnel."
      ]
    },
    {
      "cell_type": "code",
      "execution_count": 15,
      "metadata": {
        "colab": {
          "base_uri": "https://localhost:8080/"
        },
        "id": "ZHcXka3vjnzg",
        "outputId": "e9d57fa4-8677-4840-c9e3-fb2c9d0bc23e"
      },
      "outputs": [
        {
          "name": "stdout",
          "output_type": "stream",
          "text": [
            "^C\n"
          ]
        }
      ],
      "source": [
        "# run app\n",
        "!streamlit run app.py & npx localtunnel --port 8501"
      ]
    },
    {
      "cell_type": "markdown",
      "metadata": {},
      "source": []
    }
  ],
  "metadata": {
    "colab": {
      "name": "4_streamlit.ipynb",
      "provenance": []
    },
    "kernelspec": {
      "display_name": "Python 3.9.5 ('.venv': venv)",
      "language": "python",
      "name": "python3"
    },
    "language_info": {
      "codemirror_mode": {
        "name": "ipython",
        "version": 3
      },
      "file_extension": ".py",
      "mimetype": "text/x-python",
      "name": "python",
      "nbconvert_exporter": "python",
      "pygments_lexer": "ipython3",
      "version": "3.9.5"
    },
    "vscode": {
      "interpreter": {
        "hash": "d45b97b60cd345b3487afca7c97d1b09100bd527237d21d5faf27c41656a8eb3"
      }
    }
  },
  "nbformat": 4,
  "nbformat_minor": 0
}
